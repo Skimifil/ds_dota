{
 "cells": [
  {
   "cell_type": "markdown",
   "source": [
    "## Apresentação\n",
    "O projeto vem com o intuito de gerar um entedimento de quais possiveis fatores podem influenciar na vitória de um time em um campeonato de Dota 2."
   ],
   "metadata": {
    "collapsed": false
   },
   "id": "44d1c5a5ddc621c"
  },
  {
   "cell_type": "markdown",
   "source": [
    "## Objetivos\n",
    "   - Quais fatores mais contribuem para o sucesso de uma equipe em torneios de Dota 2?\n",
    "   - Como as estatísticas individuais dos jogadores influenciam os resultados das partidas?\n",
    "   - Existem padrões ou tendências que podem prever o desempenho futuro de uma equipe?"
   ],
   "metadata": {
    "collapsed": false
   },
   "id": "4be38f04eb7f58f7"
  },
  {
   "cell_type": "markdown",
   "source": [
    "## Equipe\n",
    "[Rafael P de Carvalho](https://github.com/Skimifil)"
   ],
   "metadata": {
    "collapsed": false
   },
   "id": "34177385d2de2413"
  },
  {
   "cell_type": "markdown",
   "source": [
    "## Fonte e critérios\n",
    "- Fonte: OpenDota API. \n",
    "- Critérios: Partidas de torneios, dados de jogadores profissionais e equipes, filtrados por torneios principais."
   ],
   "metadata": {
    "collapsed": false
   },
   "id": "14b1f20108247c23"
  },
  {
   "cell_type": "code",
   "outputs": [
    {
     "ename": "ModuleNotFoundError",
     "evalue": "No module named 'matplotlib'",
     "output_type": "error",
     "traceback": [
      "\u001B[0;31m---------------------------------------------------------------------------\u001B[0m",
      "\u001B[0;31mModuleNotFoundError\u001B[0m                       Traceback (most recent call last)",
      "Cell \u001B[0;32mIn[22], line 3\u001B[0m\n\u001B[1;32m      1\u001B[0m \u001B[38;5;28;01mimport\u001B[39;00m \u001B[38;5;21;01mpandas\u001B[39;00m \u001B[38;5;28;01mas\u001B[39;00m \u001B[38;5;21;01mpd\u001B[39;00m\n\u001B[1;32m      2\u001B[0m \u001B[38;5;28;01mimport\u001B[39;00m \u001B[38;5;21;01mrequests\u001B[39;00m\n\u001B[0;32m----> 3\u001B[0m \u001B[38;5;28;01mimport\u001B[39;00m \u001B[38;5;21;01mmatplotlib\u001B[39;00m\u001B[38;5;21;01m.\u001B[39;00m\u001B[38;5;21;01mpyplot\u001B[39;00m \u001B[38;5;28;01mas\u001B[39;00m \u001B[38;5;21;01mplt\u001B[39;00m\n\u001B[1;32m      4\u001B[0m \u001B[38;5;28;01mimport\u001B[39;00m \u001B[38;5;21;01mseaborn\u001B[39;00m \u001B[38;5;28;01mas\u001B[39;00m \u001B[38;5;21;01msns\u001B[39;00m\n",
      "\u001B[0;31mModuleNotFoundError\u001B[0m: No module named 'matplotlib'"
     ]
    }
   ],
   "source": [
    "import pandas as pd\n",
    "import requests\n",
    "import matplotlib.pyplot as plt\n",
    "import seaborn as sns"
   ],
   "metadata": {
    "collapsed": false,
    "ExecuteTime": {
     "end_time": "2024-07-04T14:59:44.930242Z",
     "start_time": "2024-07-04T14:59:44.897158Z"
    }
   },
   "id": "initial_id",
   "execution_count": 22
  },
  {
   "cell_type": "code",
   "outputs": [],
   "source": [
    "def connect_api(url):\n",
    "    \"\"\"\n",
    "    Connects to API and returns de data from endpoint.\n",
    "\n",
    "    :param url: (str) url to connect.\n",
    "    :return: Data from API.\n",
    "\n",
    "    Exemple: data = connect_api('https://api.opendota.com/api/proPlayers')\n",
    "\n",
    "    \"\"\"\n",
    "    return requests.get(f'{url}').json()"
   ],
   "metadata": {
    "collapsed": false,
    "ExecuteTime": {
     "end_time": "2024-07-04T14:48:01.908645Z",
     "start_time": "2024-07-04T14:48:01.903303Z"
    }
   },
   "id": "d97b62c654f20e02",
   "execution_count": 7
  },
  {
   "metadata": {
    "ExecuteTime": {
     "end_time": "2024-07-04T14:48:05.856873Z",
     "start_time": "2024-07-04T14:48:04.085356Z"
    }
   },
   "cell_type": "code",
   "source": [
    "# Info of teams\n",
    "req_teams = connect_api(f'https://api.opendota.com/api/teams')\n",
    "df_teams = pd.DataFrame(req_teams)\n",
    "\n",
    "# Info of pro matches\n",
    "req_pro_matches = connect_api(f'https://api.opendota.com/api/proMatches')\n",
    "df_pro_matches = pd.DataFrame(req_pro_matches)\n",
    "\n",
    "# Info of pro players\n",
    "req_pro_players = connect_api(f'https://api.opendota.com/api/proPlayers')\n",
    "df_pro_players = pd.DataFrame(req_pro_players)\n"
   ],
   "id": "6c0ed57c64f7a7ad",
   "outputs": [],
   "execution_count": 8
  },
  {
   "cell_type": "code",
   "outputs": [],
   "source": [
    "# Info of teams matches\n",
    "id_of_teams = 36\n",
    "req_teams_matches = connect_api(f'https://api.opendota.com/api/teams/{id_of_teams}/matches')\n",
    "df_teams_matches = pd.DataFrame(req_teams_matches)\n",
    "\n",
    "# Info of teams heroes\n",
    "req_teams_heroes = connect_api(f'https://api.opendota.com/api/teams/{id_of_teams}/heroes')\n",
    "df_teams_heroes = pd.DataFrame(req_teams_heroes)\n",
    "\n",
    "# Info of team players\n",
    "req_team_players = connect_api(f'https://api.opendota.com/api/teams/{id_of_teams}/players')\n",
    "df_team_players = pd.DataFrame(req_team_players)"
   ],
   "metadata": {
    "collapsed": false,
    "ExecuteTime": {
     "end_time": "2024-07-04T14:48:12.853017Z",
     "start_time": "2024-07-04T14:48:08.302885Z"
    }
   },
   "id": "db16d13dc23eb64b",
   "execution_count": 9
  },
  {
   "metadata": {
    "ExecuteTime": {
     "end_time": "2024-07-04T14:48:14.847754Z",
     "start_time": "2024-07-04T14:48:14.818758Z"
    }
   },
   "cell_type": "code",
   "source": [
    "df_teams.head()"
   ],
   "id": "6ef61bc5b0752036",
   "outputs": [
    {
     "data": {
      "text/plain": "   team_id   rating  wins  losses  last_match_time               name  \\\n0  9247354  1674.51   188      60       1716740280       Team Falcons   \n1  7119388  1638.60   545     382       1719767805        Team Spirit   \n2  8599101  1570.14   383     246       1719767805  Gaimin Gladiators   \n3  8605863  1540.17   296     226       1720093082             Entity   \n4  8261500  1536.74   293     264       1716661500      Xtreme Gaming   \n\n       tag                                           logo_url  \n0     FLCN  https://steamusercontent-a.akamaihd.net/ugc/23...  \n1  TSpirit  https://steamusercontent-a.akamaihd.net/ugc/18...  \n2       GG  https://steamusercontent-a.akamaihd.net/ugc/18...  \n3   Entity  https://steamusercontent-a.akamaihd.net/ugc/25...  \n4       XG  https://steamusercontent-a.akamaihd.net/ugc/25...  ",
      "text/html": "<div>\n<style scoped>\n    .dataframe tbody tr th:only-of-type {\n        vertical-align: middle;\n    }\n\n    .dataframe tbody tr th {\n        vertical-align: top;\n    }\n\n    .dataframe thead th {\n        text-align: right;\n    }\n</style>\n<table border=\"1\" class=\"dataframe\">\n  <thead>\n    <tr style=\"text-align: right;\">\n      <th></th>\n      <th>team_id</th>\n      <th>rating</th>\n      <th>wins</th>\n      <th>losses</th>\n      <th>last_match_time</th>\n      <th>name</th>\n      <th>tag</th>\n      <th>logo_url</th>\n    </tr>\n  </thead>\n  <tbody>\n    <tr>\n      <th>0</th>\n      <td>9247354</td>\n      <td>1674.51</td>\n      <td>188</td>\n      <td>60</td>\n      <td>1716740280</td>\n      <td>Team Falcons</td>\n      <td>FLCN</td>\n      <td>https://steamusercontent-a.akamaihd.net/ugc/23...</td>\n    </tr>\n    <tr>\n      <th>1</th>\n      <td>7119388</td>\n      <td>1638.60</td>\n      <td>545</td>\n      <td>382</td>\n      <td>1719767805</td>\n      <td>Team Spirit</td>\n      <td>TSpirit</td>\n      <td>https://steamusercontent-a.akamaihd.net/ugc/18...</td>\n    </tr>\n    <tr>\n      <th>2</th>\n      <td>8599101</td>\n      <td>1570.14</td>\n      <td>383</td>\n      <td>246</td>\n      <td>1719767805</td>\n      <td>Gaimin Gladiators</td>\n      <td>GG</td>\n      <td>https://steamusercontent-a.akamaihd.net/ugc/18...</td>\n    </tr>\n    <tr>\n      <th>3</th>\n      <td>8605863</td>\n      <td>1540.17</td>\n      <td>296</td>\n      <td>226</td>\n      <td>1720093082</td>\n      <td>Entity</td>\n      <td>Entity</td>\n      <td>https://steamusercontent-a.akamaihd.net/ugc/25...</td>\n    </tr>\n    <tr>\n      <th>4</th>\n      <td>8261500</td>\n      <td>1536.74</td>\n      <td>293</td>\n      <td>264</td>\n      <td>1716661500</td>\n      <td>Xtreme Gaming</td>\n      <td>XG</td>\n      <td>https://steamusercontent-a.akamaihd.net/ugc/25...</td>\n    </tr>\n  </tbody>\n</table>\n</div>"
     },
     "execution_count": 10,
     "metadata": {},
     "output_type": "execute_result"
    }
   ],
   "execution_count": 10
  },
  {
   "metadata": {
    "ExecuteTime": {
     "end_time": "2024-07-04T14:48:16.284047Z",
     "start_time": "2024-07-04T14:48:16.264979Z"
    }
   },
   "cell_type": "code",
   "source": [
    "df_pro_matches.head()"
   ],
   "id": "65a29fa9a31653cb",
   "outputs": [
    {
     "data": {
      "text/plain": "     match_id  duration  start_time  radiant_team_id      radiant_name  \\\n0  7828626120      1495  1720100433          9466943          Team Tea   \n1  7828622285      1559  1720100285          8629324     Swift Knights   \n2  7828600755      2057  1720099451          9360721         KIBA ARMS   \n3  7828569841      2077  1720098540          8894818         PSG.Quest   \n4  7828558285      1588  1720097762          8629317  Bright Crusaders   \n\n   dire_team_id         dire_name  leagueid  \\\n0       9449532        Kalmychata     15898   \n1       8629317  Bright Crusaders     16059   \n2       9381131           Uzumaki     15901   \n3       9303484            Heroic     16881   \n4       8629324     Swift Knights     16059   \n\n                                league_name  series_id  series_type  \\\n0     European Pro League  2023-2024 Season     888566            1   \n1                            Destiny League     888571            1   \n2           Ultras Dota Pro League  2023-24     888567            1   \n3  Riyadh Masters 2024 at Esports World Cup     888572            3   \n4                            Destiny League     888571            1   \n\n   radiant_score  dire_score  radiant_win  version  \n0             34          14         True       21  \n1             33          20         True       21  \n2             48          19         True       21  \n3              9          31        False       21  \n4             22          26        False       21  ",
      "text/html": "<div>\n<style scoped>\n    .dataframe tbody tr th:only-of-type {\n        vertical-align: middle;\n    }\n\n    .dataframe tbody tr th {\n        vertical-align: top;\n    }\n\n    .dataframe thead th {\n        text-align: right;\n    }\n</style>\n<table border=\"1\" class=\"dataframe\">\n  <thead>\n    <tr style=\"text-align: right;\">\n      <th></th>\n      <th>match_id</th>\n      <th>duration</th>\n      <th>start_time</th>\n      <th>radiant_team_id</th>\n      <th>radiant_name</th>\n      <th>dire_team_id</th>\n      <th>dire_name</th>\n      <th>leagueid</th>\n      <th>league_name</th>\n      <th>series_id</th>\n      <th>series_type</th>\n      <th>radiant_score</th>\n      <th>dire_score</th>\n      <th>radiant_win</th>\n      <th>version</th>\n    </tr>\n  </thead>\n  <tbody>\n    <tr>\n      <th>0</th>\n      <td>7828626120</td>\n      <td>1495</td>\n      <td>1720100433</td>\n      <td>9466943</td>\n      <td>Team Tea</td>\n      <td>9449532</td>\n      <td>Kalmychata</td>\n      <td>15898</td>\n      <td>European Pro League  2023-2024 Season</td>\n      <td>888566</td>\n      <td>1</td>\n      <td>34</td>\n      <td>14</td>\n      <td>True</td>\n      <td>21</td>\n    </tr>\n    <tr>\n      <th>1</th>\n      <td>7828622285</td>\n      <td>1559</td>\n      <td>1720100285</td>\n      <td>8629324</td>\n      <td>Swift Knights</td>\n      <td>8629317</td>\n      <td>Bright Crusaders</td>\n      <td>16059</td>\n      <td>Destiny League</td>\n      <td>888571</td>\n      <td>1</td>\n      <td>33</td>\n      <td>20</td>\n      <td>True</td>\n      <td>21</td>\n    </tr>\n    <tr>\n      <th>2</th>\n      <td>7828600755</td>\n      <td>2057</td>\n      <td>1720099451</td>\n      <td>9360721</td>\n      <td>KIBA ARMS</td>\n      <td>9381131</td>\n      <td>Uzumaki</td>\n      <td>15901</td>\n      <td>Ultras Dota Pro League  2023-24</td>\n      <td>888567</td>\n      <td>1</td>\n      <td>48</td>\n      <td>19</td>\n      <td>True</td>\n      <td>21</td>\n    </tr>\n    <tr>\n      <th>3</th>\n      <td>7828569841</td>\n      <td>2077</td>\n      <td>1720098540</td>\n      <td>8894818</td>\n      <td>PSG.Quest</td>\n      <td>9303484</td>\n      <td>Heroic</td>\n      <td>16881</td>\n      <td>Riyadh Masters 2024 at Esports World Cup</td>\n      <td>888572</td>\n      <td>3</td>\n      <td>9</td>\n      <td>31</td>\n      <td>False</td>\n      <td>21</td>\n    </tr>\n    <tr>\n      <th>4</th>\n      <td>7828558285</td>\n      <td>1588</td>\n      <td>1720097762</td>\n      <td>8629317</td>\n      <td>Bright Crusaders</td>\n      <td>8629324</td>\n      <td>Swift Knights</td>\n      <td>16059</td>\n      <td>Destiny League</td>\n      <td>888571</td>\n      <td>1</td>\n      <td>22</td>\n      <td>26</td>\n      <td>False</td>\n      <td>21</td>\n    </tr>\n  </tbody>\n</table>\n</div>"
     },
     "execution_count": 11,
     "metadata": {},
     "output_type": "execute_result"
    }
   ],
   "execution_count": 11
  },
  {
   "metadata": {
    "ExecuteTime": {
     "end_time": "2024-07-04T14:48:17.669968Z",
     "start_time": "2024-07-04T14:48:17.645206Z"
    }
   },
   "cell_type": "code",
   "source": [
    "df_pro_players.head()"
   ],
   "id": "ea19eee43f9361fc",
   "outputs": [
    {
     "data": {
      "text/plain": "   account_id            steamid  \\\n0     1296625  76561197961562353   \n1    16497807  76561197976763535   \n2    18180970  76561197978446698   \n3    27178898  76561197987444626   \n4    34505203  76561197994770931   \n\n                                              avatar  \\\n0  https://avatars.steamstatic.com/62cef329fd2e6c...   \n1  https://avatars.steamstatic.com/a0aca11d96d24e...   \n2  https://avatars.steamstatic.com/1e27bcd82490cb...   \n3  https://avatars.steamstatic.com/5dea3793a2a5d2...   \n4  https://avatars.steamstatic.com/2470959bad8623...   \n\n                                        avatarmedium  \\\n0  https://avatars.steamstatic.com/62cef329fd2e6c...   \n1  https://avatars.steamstatic.com/a0aca11d96d24e...   \n2  https://avatars.steamstatic.com/1e27bcd82490cb...   \n3  https://avatars.steamstatic.com/5dea3793a2a5d2...   \n4  https://avatars.steamstatic.com/2470959bad8623...   \n\n                                          avatarfull  \\\n0  https://avatars.steamstatic.com/62cef329fd2e6c...   \n1  https://avatars.steamstatic.com/a0aca11d96d24e...   \n2  https://avatars.steamstatic.com/1e27bcd82490cb...   \n3  https://avatars.steamstatic.com/5dea3793a2a5d2...   \n4  https://avatars.steamstatic.com/2470959bad8623...   \n\n                                          profileurl           personaname  \\\n0             https://steamcommunity.com/id/Newsham/             it's time   \n1              https://steamcommunity.com/id/to_Ofu/                  tOfu   \n2  https://steamcommunity.com/profiles/7656119797...  skruva den som pabbe   \n3  https://steamcommunity.com/profiles/7656119798...                  ГНЕВ   \n4        https://steamcommunity.com/id/MinD_ContRoL/                  nice   \n\n                 last_login         full_history_time  cheese  ...   plus  \\\n0  2023-10-21T21:51:11.911Z  2024-05-03T12:36:49.316Z     0.0  ...   True   \n1  2020-12-05T02:26:53.827Z  2024-05-17T14:18:27.162Z     0.0  ...   True   \n2  2018-12-09T23:16:04.851Z  2024-07-02T11:44:24.503Z     0.0  ...  False   \n3  2023-02-14T18:09:36.116Z  2024-06-30T08:40:17.441Z     0.0  ...  False   \n4                      None  2024-06-29T10:05:39.030Z     0.0  ...   True   \n\n       name country_code fantasy_role  team_id          team_name  team_tag  \\\n0   Newsham                         2  8944221       Fart Studios       FRT   \n1      tOfu           de            2  8599101  Gaimin Gladiators        GG   \n2  Handsken           se            2  9368468       Rest Farmers       zzz   \n3   Skylark                         1  9280056         JustBetter        JB   \n4        mc           bg            1       39  Shopify Rebellion        SR   \n\n   is_locked is_pro locked_until  \n0       True   True         None  \n1       True   True         None  \n2       True   True         None  \n3       True   True         None  \n4       True   True         None  \n\n[5 rows x 23 columns]",
      "text/html": "<div>\n<style scoped>\n    .dataframe tbody tr th:only-of-type {\n        vertical-align: middle;\n    }\n\n    .dataframe tbody tr th {\n        vertical-align: top;\n    }\n\n    .dataframe thead th {\n        text-align: right;\n    }\n</style>\n<table border=\"1\" class=\"dataframe\">\n  <thead>\n    <tr style=\"text-align: right;\">\n      <th></th>\n      <th>account_id</th>\n      <th>steamid</th>\n      <th>avatar</th>\n      <th>avatarmedium</th>\n      <th>avatarfull</th>\n      <th>profileurl</th>\n      <th>personaname</th>\n      <th>last_login</th>\n      <th>full_history_time</th>\n      <th>cheese</th>\n      <th>...</th>\n      <th>plus</th>\n      <th>name</th>\n      <th>country_code</th>\n      <th>fantasy_role</th>\n      <th>team_id</th>\n      <th>team_name</th>\n      <th>team_tag</th>\n      <th>is_locked</th>\n      <th>is_pro</th>\n      <th>locked_until</th>\n    </tr>\n  </thead>\n  <tbody>\n    <tr>\n      <th>0</th>\n      <td>1296625</td>\n      <td>76561197961562353</td>\n      <td>https://avatars.steamstatic.com/62cef329fd2e6c...</td>\n      <td>https://avatars.steamstatic.com/62cef329fd2e6c...</td>\n      <td>https://avatars.steamstatic.com/62cef329fd2e6c...</td>\n      <td>https://steamcommunity.com/id/Newsham/</td>\n      <td>it's time</td>\n      <td>2023-10-21T21:51:11.911Z</td>\n      <td>2024-05-03T12:36:49.316Z</td>\n      <td>0.0</td>\n      <td>...</td>\n      <td>True</td>\n      <td>Newsham</td>\n      <td></td>\n      <td>2</td>\n      <td>8944221</td>\n      <td>Fart Studios</td>\n      <td>FRT</td>\n      <td>True</td>\n      <td>True</td>\n      <td>None</td>\n    </tr>\n    <tr>\n      <th>1</th>\n      <td>16497807</td>\n      <td>76561197976763535</td>\n      <td>https://avatars.steamstatic.com/a0aca11d96d24e...</td>\n      <td>https://avatars.steamstatic.com/a0aca11d96d24e...</td>\n      <td>https://avatars.steamstatic.com/a0aca11d96d24e...</td>\n      <td>https://steamcommunity.com/id/to_Ofu/</td>\n      <td>tOfu</td>\n      <td>2020-12-05T02:26:53.827Z</td>\n      <td>2024-05-17T14:18:27.162Z</td>\n      <td>0.0</td>\n      <td>...</td>\n      <td>True</td>\n      <td>tOfu</td>\n      <td>de</td>\n      <td>2</td>\n      <td>8599101</td>\n      <td>Gaimin Gladiators</td>\n      <td>GG</td>\n      <td>True</td>\n      <td>True</td>\n      <td>None</td>\n    </tr>\n    <tr>\n      <th>2</th>\n      <td>18180970</td>\n      <td>76561197978446698</td>\n      <td>https://avatars.steamstatic.com/1e27bcd82490cb...</td>\n      <td>https://avatars.steamstatic.com/1e27bcd82490cb...</td>\n      <td>https://avatars.steamstatic.com/1e27bcd82490cb...</td>\n      <td>https://steamcommunity.com/profiles/7656119797...</td>\n      <td>skruva den som pabbe</td>\n      <td>2018-12-09T23:16:04.851Z</td>\n      <td>2024-07-02T11:44:24.503Z</td>\n      <td>0.0</td>\n      <td>...</td>\n      <td>False</td>\n      <td>Handsken</td>\n      <td>se</td>\n      <td>2</td>\n      <td>9368468</td>\n      <td>Rest Farmers</td>\n      <td>zzz</td>\n      <td>True</td>\n      <td>True</td>\n      <td>None</td>\n    </tr>\n    <tr>\n      <th>3</th>\n      <td>27178898</td>\n      <td>76561197987444626</td>\n      <td>https://avatars.steamstatic.com/5dea3793a2a5d2...</td>\n      <td>https://avatars.steamstatic.com/5dea3793a2a5d2...</td>\n      <td>https://avatars.steamstatic.com/5dea3793a2a5d2...</td>\n      <td>https://steamcommunity.com/profiles/7656119798...</td>\n      <td>ГНЕВ</td>\n      <td>2023-02-14T18:09:36.116Z</td>\n      <td>2024-06-30T08:40:17.441Z</td>\n      <td>0.0</td>\n      <td>...</td>\n      <td>False</td>\n      <td>Skylark</td>\n      <td></td>\n      <td>1</td>\n      <td>9280056</td>\n      <td>JustBetter</td>\n      <td>JB</td>\n      <td>True</td>\n      <td>True</td>\n      <td>None</td>\n    </tr>\n    <tr>\n      <th>4</th>\n      <td>34505203</td>\n      <td>76561197994770931</td>\n      <td>https://avatars.steamstatic.com/2470959bad8623...</td>\n      <td>https://avatars.steamstatic.com/2470959bad8623...</td>\n      <td>https://avatars.steamstatic.com/2470959bad8623...</td>\n      <td>https://steamcommunity.com/id/MinD_ContRoL/</td>\n      <td>nice</td>\n      <td>None</td>\n      <td>2024-06-29T10:05:39.030Z</td>\n      <td>0.0</td>\n      <td>...</td>\n      <td>True</td>\n      <td>mc</td>\n      <td>bg</td>\n      <td>1</td>\n      <td>39</td>\n      <td>Shopify Rebellion</td>\n      <td>SR</td>\n      <td>True</td>\n      <td>True</td>\n      <td>None</td>\n    </tr>\n  </tbody>\n</table>\n<p>5 rows × 23 columns</p>\n</div>"
     },
     "execution_count": 12,
     "metadata": {},
     "output_type": "execute_result"
    }
   ],
   "execution_count": 12
  },
  {
   "metadata": {
    "ExecuteTime": {
     "end_time": "2024-07-04T14:48:19.033357Z",
     "start_time": "2024-07-04T14:48:19.017924Z"
    }
   },
   "cell_type": "code",
   "source": [
    "df_teams_matches.head()"
   ],
   "id": "e01686a7ed3c079a",
   "outputs": [
    {
     "data": {
      "text/plain": "     match_id  radiant_win  radiant_score  dire_score  radiant  duration  \\\n0  7819328003         True             32          10    False      1590   \n1  7819229747        False              6          31     True      1408   \n2  7819114906         True             48          27     True      2203   \n3  7818972507        False              8          23    False      1736   \n4  7818890557        False              7          24     True      1773   \n\n   start_time  leagueid                                        league_name  \\\n0  1719589230     16776  Elite League Season 2 EEU Closed Qualifiers – ...   \n1  1719585980     16776  Elite League Season 2 EEU Closed Qualifiers – ...   \n2  1719581981     16776  Elite League Season 2 EEU Closed Qualifiers – ...   \n3  1719576613     16776  Elite League Season 2 EEU Closed Qualifiers – ...   \n4  1719572732     16776  Elite League Season 2 EEU Closed Qualifiers – ...   \n\n   cluster  opposing_team_id opposing_team_name  \\\n0      274           9255039               1win   \n1      274           9255039               1win   \n2      271           9449532         Kalmychata   \n3      273           9449532         Kalmychata   \n4      274           9303383          L1GA TEAM   \n\n                                  opposing_team_logo  \n0  https://steamusercontent-a.akamaihd.net/ugc/25...  \n1  https://steamusercontent-a.akamaihd.net/ugc/25...  \n2  https://steamusercontent-a.akamaihd.net/ugc/24...  \n3  https://steamusercontent-a.akamaihd.net/ugc/24...  \n4  https://steamusercontent-a.akamaihd.net/ugc/23...  ",
      "text/html": "<div>\n<style scoped>\n    .dataframe tbody tr th:only-of-type {\n        vertical-align: middle;\n    }\n\n    .dataframe tbody tr th {\n        vertical-align: top;\n    }\n\n    .dataframe thead th {\n        text-align: right;\n    }\n</style>\n<table border=\"1\" class=\"dataframe\">\n  <thead>\n    <tr style=\"text-align: right;\">\n      <th></th>\n      <th>match_id</th>\n      <th>radiant_win</th>\n      <th>radiant_score</th>\n      <th>dire_score</th>\n      <th>radiant</th>\n      <th>duration</th>\n      <th>start_time</th>\n      <th>leagueid</th>\n      <th>league_name</th>\n      <th>cluster</th>\n      <th>opposing_team_id</th>\n      <th>opposing_team_name</th>\n      <th>opposing_team_logo</th>\n    </tr>\n  </thead>\n  <tbody>\n    <tr>\n      <th>0</th>\n      <td>7819328003</td>\n      <td>True</td>\n      <td>32</td>\n      <td>10</td>\n      <td>False</td>\n      <td>1590</td>\n      <td>1719589230</td>\n      <td>16776</td>\n      <td>Elite League Season 2 EEU Closed Qualifiers – ...</td>\n      <td>274</td>\n      <td>9255039</td>\n      <td>1win</td>\n      <td>https://steamusercontent-a.akamaihd.net/ugc/25...</td>\n    </tr>\n    <tr>\n      <th>1</th>\n      <td>7819229747</td>\n      <td>False</td>\n      <td>6</td>\n      <td>31</td>\n      <td>True</td>\n      <td>1408</td>\n      <td>1719585980</td>\n      <td>16776</td>\n      <td>Elite League Season 2 EEU Closed Qualifiers – ...</td>\n      <td>274</td>\n      <td>9255039</td>\n      <td>1win</td>\n      <td>https://steamusercontent-a.akamaihd.net/ugc/25...</td>\n    </tr>\n    <tr>\n      <th>2</th>\n      <td>7819114906</td>\n      <td>True</td>\n      <td>48</td>\n      <td>27</td>\n      <td>True</td>\n      <td>2203</td>\n      <td>1719581981</td>\n      <td>16776</td>\n      <td>Elite League Season 2 EEU Closed Qualifiers – ...</td>\n      <td>271</td>\n      <td>9449532</td>\n      <td>Kalmychata</td>\n      <td>https://steamusercontent-a.akamaihd.net/ugc/24...</td>\n    </tr>\n    <tr>\n      <th>3</th>\n      <td>7818972507</td>\n      <td>False</td>\n      <td>8</td>\n      <td>23</td>\n      <td>False</td>\n      <td>1736</td>\n      <td>1719576613</td>\n      <td>16776</td>\n      <td>Elite League Season 2 EEU Closed Qualifiers – ...</td>\n      <td>273</td>\n      <td>9449532</td>\n      <td>Kalmychata</td>\n      <td>https://steamusercontent-a.akamaihd.net/ugc/24...</td>\n    </tr>\n    <tr>\n      <th>4</th>\n      <td>7818890557</td>\n      <td>False</td>\n      <td>7</td>\n      <td>24</td>\n      <td>True</td>\n      <td>1773</td>\n      <td>1719572732</td>\n      <td>16776</td>\n      <td>Elite League Season 2 EEU Closed Qualifiers – ...</td>\n      <td>274</td>\n      <td>9303383</td>\n      <td>L1GA TEAM</td>\n      <td>https://steamusercontent-a.akamaihd.net/ugc/23...</td>\n    </tr>\n  </tbody>\n</table>\n</div>"
     },
     "execution_count": 13,
     "metadata": {},
     "output_type": "execute_result"
    }
   ],
   "execution_count": 13
  },
  {
   "metadata": {
    "ExecuteTime": {
     "end_time": "2024-07-04T14:48:20.234961Z",
     "start_time": "2024-07-04T14:48:20.225651Z"
    }
   },
   "cell_type": "code",
   "source": [
    "df_teams_heroes.head()"
   ],
   "id": "aa6a50dca4c6320d",
   "outputs": [
    {
     "data": {
      "text/plain": "   hero_id localized_name  games_played  wins\n0       86         Rubick           326   181\n1       65       Batrider           235   132\n2       13           Puck           228   128\n3       66           Chen           228   149\n4       54    Lifestealer           223   143",
      "text/html": "<div>\n<style scoped>\n    .dataframe tbody tr th:only-of-type {\n        vertical-align: middle;\n    }\n\n    .dataframe tbody tr th {\n        vertical-align: top;\n    }\n\n    .dataframe thead th {\n        text-align: right;\n    }\n</style>\n<table border=\"1\" class=\"dataframe\">\n  <thead>\n    <tr style=\"text-align: right;\">\n      <th></th>\n      <th>hero_id</th>\n      <th>localized_name</th>\n      <th>games_played</th>\n      <th>wins</th>\n    </tr>\n  </thead>\n  <tbody>\n    <tr>\n      <th>0</th>\n      <td>86</td>\n      <td>Rubick</td>\n      <td>326</td>\n      <td>181</td>\n    </tr>\n    <tr>\n      <th>1</th>\n      <td>65</td>\n      <td>Batrider</td>\n      <td>235</td>\n      <td>132</td>\n    </tr>\n    <tr>\n      <th>2</th>\n      <td>13</td>\n      <td>Puck</td>\n      <td>228</td>\n      <td>128</td>\n    </tr>\n    <tr>\n      <th>3</th>\n      <td>66</td>\n      <td>Chen</td>\n      <td>228</td>\n      <td>149</td>\n    </tr>\n    <tr>\n      <th>4</th>\n      <td>54</td>\n      <td>Lifestealer</td>\n      <td>223</td>\n      <td>143</td>\n    </tr>\n  </tbody>\n</table>\n</div>"
     },
     "execution_count": 14,
     "metadata": {},
     "output_type": "execute_result"
    }
   ],
   "execution_count": 14
  },
  {
   "metadata": {
    "ExecuteTime": {
     "end_time": "2024-07-04T14:48:21.413526Z",
     "start_time": "2024-07-04T14:48:21.400345Z"
    }
   },
   "cell_type": "code",
   "source": [
    "df_team_players.head()"
   ],
   "id": "19b89379fb2206f6",
   "outputs": [
    {
     "data": {
      "text/plain": "   account_id      name  games_played  wins is_current_team_member\n0    70388657     Dendi          1467   831                  False\n1    89625472      None           913   545                   None\n2    86723143      None           734   437                   None\n3   117421467  SoNNeikO           723   376                  False\n4    87278757    Puppey           640   408                  False",
      "text/html": "<div>\n<style scoped>\n    .dataframe tbody tr th:only-of-type {\n        vertical-align: middle;\n    }\n\n    .dataframe tbody tr th {\n        vertical-align: top;\n    }\n\n    .dataframe thead th {\n        text-align: right;\n    }\n</style>\n<table border=\"1\" class=\"dataframe\">\n  <thead>\n    <tr style=\"text-align: right;\">\n      <th></th>\n      <th>account_id</th>\n      <th>name</th>\n      <th>games_played</th>\n      <th>wins</th>\n      <th>is_current_team_member</th>\n    </tr>\n  </thead>\n  <tbody>\n    <tr>\n      <th>0</th>\n      <td>70388657</td>\n      <td>Dendi</td>\n      <td>1467</td>\n      <td>831</td>\n      <td>False</td>\n    </tr>\n    <tr>\n      <th>1</th>\n      <td>89625472</td>\n      <td>None</td>\n      <td>913</td>\n      <td>545</td>\n      <td>None</td>\n    </tr>\n    <tr>\n      <th>2</th>\n      <td>86723143</td>\n      <td>None</td>\n      <td>734</td>\n      <td>437</td>\n      <td>None</td>\n    </tr>\n    <tr>\n      <th>3</th>\n      <td>117421467</td>\n      <td>SoNNeikO</td>\n      <td>723</td>\n      <td>376</td>\n      <td>False</td>\n    </tr>\n    <tr>\n      <th>4</th>\n      <td>87278757</td>\n      <td>Puppey</td>\n      <td>640</td>\n      <td>408</td>\n      <td>False</td>\n    </tr>\n  </tbody>\n</table>\n</div>"
     },
     "execution_count": 15,
     "metadata": {},
     "output_type": "execute_result"
    }
   ],
   "execution_count": 15
  },
  {
   "cell_type": "markdown",
   "source": [
    "## Geração do primeiro Data Wrangling e EDA, apontado seus dados (insights) univariados, bivariados e multivariados:**\n"
   ],
   "metadata": {
    "collapsed": false
   },
   "id": "338577aa8ec69f6a"
  },
  {
   "cell_type": "markdown",
   "source": [
    "- Exemplo de insights univariados: Distribuição de durações de partidas.\n"
   ],
   "metadata": {
    "collapsed": false
   },
   "id": "992575d27c75581f"
  },
  {
   "cell_type": "code",
   "outputs": [
    {
     "data": {
      "text/plain": "     match_id  radiant_win  radiant_score  dire_score  radiant  duration  \\\n0  7819328003         True             32          10    False      1590   \n1  7819229747        False              6          31     True      1408   \n2  7819114906         True             48          27     True      2203   \n3  7818972507        False              8          23    False      1736   \n4  7818890557        False              7          24     True      1773   \n\n   start_time  leagueid                                        league_name  \\\n0  1719589230     16776  Elite League Season 2 EEU Closed Qualifiers – ...   \n1  1719585980     16776  Elite League Season 2 EEU Closed Qualifiers – ...   \n2  1719581981     16776  Elite League Season 2 EEU Closed Qualifiers – ...   \n3  1719576613     16776  Elite League Season 2 EEU Closed Qualifiers – ...   \n4  1719572732     16776  Elite League Season 2 EEU Closed Qualifiers – ...   \n\n   cluster  opposing_team_id opposing_team_name  \\\n0      274           9255039               1win   \n1      274           9255039               1win   \n2      271           9449532         Kalmychata   \n3      273           9449532         Kalmychata   \n4      274           9303383          L1GA TEAM   \n\n                                  opposing_team_logo  \n0  https://steamusercontent-a.akamaihd.net/ugc/25...  \n1  https://steamusercontent-a.akamaihd.net/ugc/25...  \n2  https://steamusercontent-a.akamaihd.net/ugc/24...  \n3  https://steamusercontent-a.akamaihd.net/ugc/24...  \n4  https://steamusercontent-a.akamaihd.net/ugc/23...  ",
      "text/html": "<div>\n<style scoped>\n    .dataframe tbody tr th:only-of-type {\n        vertical-align: middle;\n    }\n\n    .dataframe tbody tr th {\n        vertical-align: top;\n    }\n\n    .dataframe thead th {\n        text-align: right;\n    }\n</style>\n<table border=\"1\" class=\"dataframe\">\n  <thead>\n    <tr style=\"text-align: right;\">\n      <th></th>\n      <th>match_id</th>\n      <th>radiant_win</th>\n      <th>radiant_score</th>\n      <th>dire_score</th>\n      <th>radiant</th>\n      <th>duration</th>\n      <th>start_time</th>\n      <th>leagueid</th>\n      <th>league_name</th>\n      <th>cluster</th>\n      <th>opposing_team_id</th>\n      <th>opposing_team_name</th>\n      <th>opposing_team_logo</th>\n    </tr>\n  </thead>\n  <tbody>\n    <tr>\n      <th>0</th>\n      <td>7819328003</td>\n      <td>True</td>\n      <td>32</td>\n      <td>10</td>\n      <td>False</td>\n      <td>1590</td>\n      <td>1719589230</td>\n      <td>16776</td>\n      <td>Elite League Season 2 EEU Closed Qualifiers – ...</td>\n      <td>274</td>\n      <td>9255039</td>\n      <td>1win</td>\n      <td>https://steamusercontent-a.akamaihd.net/ugc/25...</td>\n    </tr>\n    <tr>\n      <th>1</th>\n      <td>7819229747</td>\n      <td>False</td>\n      <td>6</td>\n      <td>31</td>\n      <td>True</td>\n      <td>1408</td>\n      <td>1719585980</td>\n      <td>16776</td>\n      <td>Elite League Season 2 EEU Closed Qualifiers – ...</td>\n      <td>274</td>\n      <td>9255039</td>\n      <td>1win</td>\n      <td>https://steamusercontent-a.akamaihd.net/ugc/25...</td>\n    </tr>\n    <tr>\n      <th>2</th>\n      <td>7819114906</td>\n      <td>True</td>\n      <td>48</td>\n      <td>27</td>\n      <td>True</td>\n      <td>2203</td>\n      <td>1719581981</td>\n      <td>16776</td>\n      <td>Elite League Season 2 EEU Closed Qualifiers – ...</td>\n      <td>271</td>\n      <td>9449532</td>\n      <td>Kalmychata</td>\n      <td>https://steamusercontent-a.akamaihd.net/ugc/24...</td>\n    </tr>\n    <tr>\n      <th>3</th>\n      <td>7818972507</td>\n      <td>False</td>\n      <td>8</td>\n      <td>23</td>\n      <td>False</td>\n      <td>1736</td>\n      <td>1719576613</td>\n      <td>16776</td>\n      <td>Elite League Season 2 EEU Closed Qualifiers – ...</td>\n      <td>273</td>\n      <td>9449532</td>\n      <td>Kalmychata</td>\n      <td>https://steamusercontent-a.akamaihd.net/ugc/24...</td>\n    </tr>\n    <tr>\n      <th>4</th>\n      <td>7818890557</td>\n      <td>False</td>\n      <td>7</td>\n      <td>24</td>\n      <td>True</td>\n      <td>1773</td>\n      <td>1719572732</td>\n      <td>16776</td>\n      <td>Elite League Season 2 EEU Closed Qualifiers – ...</td>\n      <td>274</td>\n      <td>9303383</td>\n      <td>L1GA TEAM</td>\n      <td>https://steamusercontent-a.akamaihd.net/ugc/23...</td>\n    </tr>\n  </tbody>\n</table>\n</div>"
     },
     "execution_count": 18,
     "metadata": {},
     "output_type": "execute_result"
    }
   ],
   "source": [
    "df_teams_matches.head()"
   ],
   "metadata": {
    "collapsed": false,
    "ExecuteTime": {
     "end_time": "2024-07-04T14:54:18.443779Z",
     "start_time": "2024-07-04T14:54:18.421262Z"
    }
   },
   "id": "1e0873e7aeaed028",
   "execution_count": 18
  },
  {
   "cell_type": "markdown",
   "source": [
    "- Insights bivariados: Correlação entre a quantidade de vitórias e a pontuação média da equipe.\n"
   ],
   "metadata": {
    "collapsed": false
   },
   "id": "ff8ceb7a61a86f99"
  },
  {
   "cell_type": "markdown",
   "source": [
    "   - Insights multivariados: Análise da relação entre desempenho da equipe, estatísticas dos jogadores e resultados das partidas."
   ],
   "metadata": {
    "collapsed": false
   },
   "id": "3b0cc227c02e37cf"
  },
  {
   "cell_type": "code",
   "outputs": [],
   "source": [],
   "metadata": {
    "collapsed": false
   },
   "id": "64efc6ec1d86954b"
  }
 ],
 "metadata": {
  "kernelspec": {
   "display_name": "Python 3",
   "language": "python",
   "name": "python3"
  },
  "language_info": {
   "codemirror_mode": {
    "name": "ipython",
    "version": 2
   },
   "file_extension": ".py",
   "mimetype": "text/x-python",
   "name": "python",
   "nbconvert_exporter": "python",
   "pygments_lexer": "ipython2",
   "version": "2.7.6"
  }
 },
 "nbformat": 4,
 "nbformat_minor": 5
}
